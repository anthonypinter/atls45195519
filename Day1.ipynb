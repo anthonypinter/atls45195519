{
  "nbformat": 4,
  "nbformat_minor": 0,
  "metadata": {
    "colab": {
      "name": "Day1.ipynb",
      "provenance": [],
      "collapsed_sections": [],
      "authorship_tag": "ABX9TyP3i9SnEs/gsosQhzqhuigz",
      "include_colab_link": true
    },
    "kernelspec": {
      "name": "python3",
      "display_name": "Python 3"
    },
    "language_info": {
      "name": "python"
    }
  },
  "cells": [
    {
      "cell_type": "markdown",
      "metadata": {
        "id": "view-in-github",
        "colab_type": "text"
      },
      "source": [
        "<a href=\"https://colab.research.google.com/github/anthonypinter/atls45195519/blob/main/Day1.ipynb\" target=\"_parent\"><img src=\"https://colab.research.google.com/assets/colab-badge.svg\" alt=\"Open In Colab\"/></a>"
      ]
    },
    {
      "cell_type": "markdown",
      "source": [
        "import random library\n",
        "\n",
        "Define 3 lists total -- honorific list, fname list, and a lname list.\n",
        "\n",
        "honorific_list = [' ', 'John', 'Jane'...]\n",
        "\n",
        "generate some random numbers that aren't bigger than the length of a given list\n",
        "\n",
        "use those numbers to pick values from the list(s)\n",
        "\n",
        "honorific variable -> set with some value from the honorific list\n",
        "fname variable -> set with some value from the fname list\n",
        "lname variable -> set with some value from the lname list\n",
        "\n",
        "shove the variables together (concatenate)\n",
        "\n",
        "output (print)"
      ],
      "metadata": {
        "id": "raEqUdW4-1j4"
      }
    },
    {
      "cell_type": "code",
      "execution_count": 6,
      "metadata": {
        "colab": {
          "base_uri": "https://localhost:8080/"
        },
        "id": "boffafVM-yoL",
        "outputId": "e8792268-0277-4677-ccfb-d791f2ff9827"
      },
      "outputs": [
        {
          "output_type": "stream",
          "name": "stdout",
          "text": [
            "  Hank Tom\n"
          ]
        }
      ],
      "source": [
        "import random\n",
        "\n",
        "honorific_list = [' ', 'Amazing', 'Esteemed', 'Magnificient', \"Horrid\"]\n",
        "fname_list = [' ', 'Hank', 'Blake', 'Toni', ]\n",
        "lname_list = [' ', 'Smith', 'Rigatoni', 'Morales', 'Tom']\n",
        "\n",
        "random_number1 = random.randint(0,len(honorific_list)-1) \n",
        "random_number2 = random.randint(0,len(fname_list)-1) \n",
        "random_number3 = random.randint(0,len(lname_list)-1)\n",
        "\n",
        "honorific = honorific_list[random_number1]\n",
        "fname = fname_list[random_number2]\n",
        "lname = lname_list[random_number3]\n",
        "\n",
        "print(honorific + \" \" + fname + \" \" + lname)"
      ]
    },
    {
      "cell_type": "markdown",
      "source": [
        "open a text file\n",
        "\n",
        "loop over every word in the text file (for item in wordList)\n",
        " \n",
        "strings (and lists) -- index[0] is the first element; index[-1] is the last element\n",
        "\n",
        "word is reach:\n",
        "reach[0] = r\n",
        "reach[-1] = h\n",
        "reach[-5] = r\n",
        "\n",
        "for word in wordList:\n",
        "  for 0 < i < len(word) -1:\n",
        "    if word[i] != word[len(word)-(i+1):\n",
        "      break\n",
        "    elif i = len(word)-1:\n",
        "      print(word)\n",
        "    \n",
        "\n",
        " if word[i] == word[len(word)-(i+1)]:\n",
        "  continue\n",
        " if i < len(word)/2:\n",
        "  print(word)\n",
        "\n",
        "\n",
        "- if statement to check first and last letter\n",
        "- if statement to check second and second-to-last\n",
        "- "
      ],
      "metadata": {
        "id": "TTDqcJVqKqgQ"
      }
    },
    {
      "cell_type": "code",
      "source": [
        "dictionaryFile = \"/content/dictionary.txt\"\n",
        "wordList = open(dictionaryFile, \"r\")\n",
        "\n",
        "# wordList = ['kayak', 'nurse', 'reach', 'eye']\n",
        "\n",
        "for word in wordList:\n",
        "  word = word.strip()\n",
        "  for i in range(0, len(word)-1):\n",
        "    if word[i] != word[len(word)-(i+1)]:\n",
        "      #print(\"not a palindrome\")\n",
        "      break\n",
        "    \n",
        "    #elif word[i] == word[len(word)-1]:\n",
        "    elif i >= ((len(word)-1)/2):\n",
        "      print(word)\n",
        "      break"
      ],
      "metadata": {
        "colab": {
          "base_uri": "https://localhost:8080/",
          "height": 232
        },
        "id": "8t_1P06qOpRx",
        "outputId": "64644183-a369-48d4-f57f-c84630ed919c"
      },
      "execution_count": 7,
      "outputs": [
        {
          "output_type": "error",
          "ename": "FileNotFoundError",
          "evalue": "ignored",
          "traceback": [
            "\u001b[0;31m---------------------------------------------------------------------------\u001b[0m",
            "\u001b[0;31mFileNotFoundError\u001b[0m                         Traceback (most recent call last)",
            "\u001b[0;32m<ipython-input-7-e7fa1ac73efa>\u001b[0m in \u001b[0;36m<module>\u001b[0;34m()\u001b[0m\n\u001b[1;32m      1\u001b[0m \u001b[0mdictionaryFile\u001b[0m \u001b[0;34m=\u001b[0m \u001b[0;34m\"/content/dictionary.txt\"\u001b[0m\u001b[0;34m\u001b[0m\u001b[0;34m\u001b[0m\u001b[0m\n\u001b[0;32m----> 2\u001b[0;31m \u001b[0mwordList\u001b[0m \u001b[0;34m=\u001b[0m \u001b[0mopen\u001b[0m\u001b[0;34m(\u001b[0m\u001b[0mdictionaryFile\u001b[0m\u001b[0;34m,\u001b[0m \u001b[0;34m\"r\"\u001b[0m\u001b[0;34m)\u001b[0m\u001b[0;34m\u001b[0m\u001b[0;34m\u001b[0m\u001b[0m\n\u001b[0m\u001b[1;32m      3\u001b[0m \u001b[0;34m\u001b[0m\u001b[0m\n\u001b[1;32m      4\u001b[0m \u001b[0;31m# wordList = ['kayak', 'nurse', 'reach', 'eye']\u001b[0m\u001b[0;34m\u001b[0m\u001b[0;34m\u001b[0m\u001b[0;34m\u001b[0m\u001b[0m\n\u001b[1;32m      5\u001b[0m \u001b[0;34m\u001b[0m\u001b[0m\n",
            "\u001b[0;31mFileNotFoundError\u001b[0m: [Errno 2] No such file or directory: '/content/dictionary.txt'"
          ]
        }
      ]
    }
  ]
}